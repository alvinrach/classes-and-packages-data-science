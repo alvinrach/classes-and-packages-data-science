{
 "cells": [
  {
   "cell_type": "code",
   "execution_count": 1,
   "id": "429ca801",
   "metadata": {},
   "outputs": [],
   "source": [
    "import pandas as pd\n",
    "from creditscore import X_y, Modelling, Predicting, score\n",
    "import pickle"
   ]
  },
  {
   "cell_type": "code",
   "execution_count": 2,
   "id": "a5494611",
   "metadata": {},
   "outputs": [],
   "source": [
    "data_train = pd.read_csv('/Users/ALVIN RACHMAT/End To End Credit Scoring/credit_risk_dataset_train.csv')"
   ]
  },
  {
   "cell_type": "code",
   "execution_count": 3,
   "id": "b1948af3",
   "metadata": {},
   "outputs": [
    {
     "name": "stderr",
     "output_type": "stream",
     "text": [
      "C:\\Users\\ALVIN RACHMAT\\End To End Credit Scoring\\creditscore.py:7: FutureWarning: In a future version of pandas all arguments of DataFrame.drop except for the argument 'labels' will be keyword-only.\n",
      "  X = data.drop(label_name,1)\n"
     ]
    }
   ],
   "source": [
    "X_train, y_train = X_y(data_train, 'loan_status')\n",
    "\n",
    "# X_train = feat_eng(X_train)\n",
    "\n",
    "a = Modelling()\n",
    "\n",
    "a.fit_varmode_uniq(X_train)\n",
    "X_train = a.transform_null(X_train)\n",
    "\n",
    "a.fit_dummy(X_train)\n",
    "X_train = a.transform_dummy(X_train)\n",
    "\n",
    "a.fit_model(X_train, y_train)\n",
    "\n",
    "with open('credit_score_model_and_assortments.pkl', 'wb') as f:\n",
    "    pickle.dump(a.__dict__, f)"
   ]
  }
 ],
 "metadata": {
  "kernelspec": {
   "display_name": "Python 3 (ipykernel)",
   "language": "python",
   "name": "python3"
  },
  "language_info": {
   "codemirror_mode": {
    "name": "ipython",
    "version": 3
   },
   "file_extension": ".py",
   "mimetype": "text/x-python",
   "name": "python",
   "nbconvert_exporter": "python",
   "pygments_lexer": "ipython3",
   "version": "3.8.10"
  }
 },
 "nbformat": 4,
 "nbformat_minor": 5
}
