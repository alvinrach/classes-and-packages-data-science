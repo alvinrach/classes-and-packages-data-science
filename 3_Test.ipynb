{
 "cells": [
  {
   "cell_type": "code",
   "execution_count": 1,
   "id": "bd8834e2",
   "metadata": {},
   "outputs": [],
   "source": [
    "import pandas as pd\n",
    "from creditscore import X_y, Modelling, Predicting, score"
   ]
  },
  {
   "cell_type": "code",
   "execution_count": 2,
   "id": "c6c693e3",
   "metadata": {},
   "outputs": [],
   "source": [
    "data_test = pd.read_csv('/Users/ALVIN RACHMAT/End To End Credit Scoring/credit_risk_dataset_test.csv')"
   ]
  },
  {
   "cell_type": "code",
   "execution_count": 3,
   "id": "8624dc3d",
   "metadata": {},
   "outputs": [
    {
     "name": "stdout",
     "output_type": "stream",
     "text": [
      "Precision : 0.9686346863468634 \n",
      "Auroc : 0.9478177905974042\n"
     ]
    },
    {
     "name": "stderr",
     "output_type": "stream",
     "text": [
      "C:\\Users\\ALVIN RACHMAT\\End To End Credit Scoring\\creditscore.py:7: FutureWarning: In a future version of pandas all arguments of DataFrame.drop except for the argument 'labels' will be keyword-only.\n",
      "  X = data.drop(label_name,1)\n"
     ]
    },
    {
     "data": {
      "text/plain": [
       "(0.9686346863468634, 0.9478177905974042)"
      ]
     },
     "execution_count": 3,
     "metadata": {},
     "output_type": "execute_result"
    }
   ],
   "source": [
    "X_test, y_test = X_y(data_test, 'loan_status')\n",
    "\n",
    "# X_test = feat_eng(X_test)\n",
    "\n",
    "b = Predicting()\n",
    "\n",
    "X_test = b.transform_null(X_test)\n",
    "X_test = b.transform_not_uniq(X_test)\n",
    "X_test = b.transform_dummy(X_test)\n",
    "\n",
    "y_pred, y_proba = b.predict_data(X_test)\n",
    "\n",
    "score(y_test, y_pred, y_proba)"
   ]
  },
  {
   "cell_type": "code",
   "execution_count": null,
   "id": "fbd7c354",
   "metadata": {},
   "outputs": [],
   "source": []
  }
 ],
 "metadata": {
  "kernelspec": {
   "display_name": "Python 3 (ipykernel)",
   "language": "python",
   "name": "python3"
  },
  "language_info": {
   "codemirror_mode": {
    "name": "ipython",
    "version": 3
   },
   "file_extension": ".py",
   "mimetype": "text/x-python",
   "name": "python",
   "nbconvert_exporter": "python",
   "pygments_lexer": "ipython3",
   "version": "3.8.10"
  }
 },
 "nbformat": 4,
 "nbformat_minor": 5
}
